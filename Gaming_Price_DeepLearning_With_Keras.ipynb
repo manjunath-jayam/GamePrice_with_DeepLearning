{
  "nbformat": 4,
  "nbformat_minor": 0,
  "metadata": {
    "colab": {
      "name": "Gaming Price DeepLearning With Keras.ipynb",
      "provenance": []
    },
    "kernelspec": {
      "name": "python3",
      "display_name": "Python 3"
    },
    "language_info": {
      "name": "python"
    }
  },
  "cells": [
    {
      "cell_type": "markdown",
      "metadata": {
        "id": "iBRcXcY-_lZF"
      },
      "source": [
        "Preprocess data"
      ]
    },
    {
      "cell_type": "code",
      "metadata": {
        "id": "CUubrcuJ_48I"
      },
      "source": [
        "import pandas as pd\n",
        "from sklearn.preprocessing import MinMaxScaler"
      ],
      "execution_count": 2,
      "outputs": []
    },
    {
      "cell_type": "code",
      "metadata": {
        "id": "Gmg2lzVGAWLL"
      },
      "source": [
        "# Load training data set from CSV file\n",
        "training_data_df =pd.read_csv(\"sales_data_training.csv\")\n",
        "\n",
        "# Load testing data set from CSV file\n",
        "test_data_df =pd.read_csv(\"sales_data_test.csv\")"
      ],
      "execution_count": 3,
      "outputs": []
    },
    {
      "cell_type": "code",
      "metadata": {
        "colab": {
          "base_uri": "https://localhost:8080/",
          "height": 141
        },
        "id": "M-RBrQRfAXG1",
        "outputId": "4e84ba72-88ae-4444-d91c-2d4a9c7b3053"
      },
      "source": [
        "training_data_df.head(3)"
      ],
      "execution_count": 4,
      "outputs": [
        {
          "output_type": "execute_result",
          "data": {
            "text/html": [
              "<div>\n",
              "<style scoped>\n",
              "    .dataframe tbody tr th:only-of-type {\n",
              "        vertical-align: middle;\n",
              "    }\n",
              "\n",
              "    .dataframe tbody tr th {\n",
              "        vertical-align: top;\n",
              "    }\n",
              "\n",
              "    .dataframe thead th {\n",
              "        text-align: right;\n",
              "    }\n",
              "</style>\n",
              "<table border=\"1\" class=\"dataframe\">\n",
              "  <thead>\n",
              "    <tr style=\"text-align: right;\">\n",
              "      <th></th>\n",
              "      <th>critic_rating</th>\n",
              "      <th>is_action</th>\n",
              "      <th>is_exclusive_to_us</th>\n",
              "      <th>is_portable</th>\n",
              "      <th>is_role_playing</th>\n",
              "      <th>is_sequel</th>\n",
              "      <th>is_sports</th>\n",
              "      <th>suitable_for_kids</th>\n",
              "      <th>total_earnings</th>\n",
              "      <th>unit_price</th>\n",
              "    </tr>\n",
              "  </thead>\n",
              "  <tbody>\n",
              "    <tr>\n",
              "      <th>0</th>\n",
              "      <td>3.5</td>\n",
              "      <td>1</td>\n",
              "      <td>0</td>\n",
              "      <td>1</td>\n",
              "      <td>0</td>\n",
              "      <td>1</td>\n",
              "      <td>0</td>\n",
              "      <td>0</td>\n",
              "      <td>132717</td>\n",
              "      <td>59.99</td>\n",
              "    </tr>\n",
              "    <tr>\n",
              "      <th>1</th>\n",
              "      <td>4.5</td>\n",
              "      <td>0</td>\n",
              "      <td>0</td>\n",
              "      <td>0</td>\n",
              "      <td>0</td>\n",
              "      <td>1</td>\n",
              "      <td>1</td>\n",
              "      <td>0</td>\n",
              "      <td>83407</td>\n",
              "      <td>49.99</td>\n",
              "    </tr>\n",
              "    <tr>\n",
              "      <th>2</th>\n",
              "      <td>3.0</td>\n",
              "      <td>0</td>\n",
              "      <td>0</td>\n",
              "      <td>0</td>\n",
              "      <td>0</td>\n",
              "      <td>1</td>\n",
              "      <td>1</td>\n",
              "      <td>0</td>\n",
              "      <td>62423</td>\n",
              "      <td>49.99</td>\n",
              "    </tr>\n",
              "  </tbody>\n",
              "</table>\n",
              "</div>"
            ],
            "text/plain": [
              "   critic_rating  is_action  ...  total_earnings  unit_price\n",
              "0            3.5          1  ...          132717       59.99\n",
              "1            4.5          0  ...           83407       49.99\n",
              "2            3.0          0  ...           62423       49.99\n",
              "\n",
              "[3 rows x 10 columns]"
            ]
          },
          "metadata": {},
          "execution_count": 4
        }
      ]
    },
    {
      "cell_type": "code",
      "metadata": {
        "colab": {
          "base_uri": "https://localhost:8080/",
          "height": 141
        },
        "id": "jP_xWCxGAcVV",
        "outputId": "e24881de-beb3-45b4-f1d7-54a16155c2c4"
      },
      "source": [
        "test_data_df.head(3)"
      ],
      "execution_count": 5,
      "outputs": [
        {
          "output_type": "execute_result",
          "data": {
            "text/html": [
              "<div>\n",
              "<style scoped>\n",
              "    .dataframe tbody tr th:only-of-type {\n",
              "        vertical-align: middle;\n",
              "    }\n",
              "\n",
              "    .dataframe tbody tr th {\n",
              "        vertical-align: top;\n",
              "    }\n",
              "\n",
              "    .dataframe thead th {\n",
              "        text-align: right;\n",
              "    }\n",
              "</style>\n",
              "<table border=\"1\" class=\"dataframe\">\n",
              "  <thead>\n",
              "    <tr style=\"text-align: right;\">\n",
              "      <th></th>\n",
              "      <th>critic_rating</th>\n",
              "      <th>is_action</th>\n",
              "      <th>is_exclusive_to_us</th>\n",
              "      <th>is_portable</th>\n",
              "      <th>is_role_playing</th>\n",
              "      <th>is_sequel</th>\n",
              "      <th>is_sports</th>\n",
              "      <th>suitable_for_kids</th>\n",
              "      <th>total_earnings</th>\n",
              "      <th>unit_price</th>\n",
              "    </tr>\n",
              "  </thead>\n",
              "  <tbody>\n",
              "    <tr>\n",
              "      <th>0</th>\n",
              "      <td>3.5</td>\n",
              "      <td>1</td>\n",
              "      <td>1</td>\n",
              "      <td>1</td>\n",
              "      <td>0</td>\n",
              "      <td>1</td>\n",
              "      <td>0</td>\n",
              "      <td>1</td>\n",
              "      <td>247537</td>\n",
              "      <td>59.99</td>\n",
              "    </tr>\n",
              "    <tr>\n",
              "      <th>1</th>\n",
              "      <td>2.5</td>\n",
              "      <td>0</td>\n",
              "      <td>0</td>\n",
              "      <td>0</td>\n",
              "      <td>1</td>\n",
              "      <td>1</td>\n",
              "      <td>0</td>\n",
              "      <td>0</td>\n",
              "      <td>73960</td>\n",
              "      <td>59.99</td>\n",
              "    </tr>\n",
              "    <tr>\n",
              "      <th>2</th>\n",
              "      <td>3.5</td>\n",
              "      <td>0</td>\n",
              "      <td>0</td>\n",
              "      <td>0</td>\n",
              "      <td>0</td>\n",
              "      <td>1</td>\n",
              "      <td>1</td>\n",
              "      <td>0</td>\n",
              "      <td>82671</td>\n",
              "      <td>59.99</td>\n",
              "    </tr>\n",
              "  </tbody>\n",
              "</table>\n",
              "</div>"
            ],
            "text/plain": [
              "   critic_rating  is_action  ...  total_earnings  unit_price\n",
              "0            3.5          1  ...          247537       59.99\n",
              "1            2.5          0  ...           73960       59.99\n",
              "2            3.5          0  ...           82671       59.99\n",
              "\n",
              "[3 rows x 10 columns]"
            ]
          },
          "metadata": {},
          "execution_count": 5
        }
      ]
    },
    {
      "cell_type": "code",
      "metadata": {
        "id": "kMYQ3ytVA1dQ"
      },
      "source": [
        "# Data needs to be scaled to a small range like 0 to 1 for the neural\n",
        "# network to work well.\n",
        "scaler = MinMaxScaler(feature_range=(0,1))"
      ],
      "execution_count": 6,
      "outputs": []
    },
    {
      "cell_type": "code",
      "metadata": {
        "colab": {
          "base_uri": "https://localhost:8080/"
        },
        "id": "lrni9gqyBY45",
        "outputId": "6a3ceb3f-0428-42b3-a265-ebb475b6d358"
      },
      "source": [
        "# Scale both the training inputs and outputs\n",
        "scaled_training = scaler.fit_transform(training_data_df)\n",
        "scaled_testing = scaler.transform(test_data_df)\n",
        "\n",
        "# Print out the adjustment that the scaler applied to the total_earnings column of data\n",
        "print(\"Note: total_earnings values were scaled by multiplying by {:.10f} and adding {:.6f}\".format(scaler.scale_[8], scaler.min_[8]))"
      ],
      "execution_count": 7,
      "outputs": [
        {
          "output_type": "stream",
          "name": "stdout",
          "text": [
            "Note: total_earnings values were scaled by multiplying by 0.0000036968 and adding -0.115913\n"
          ]
        }
      ]
    },
    {
      "cell_type": "code",
      "metadata": {
        "colab": {
          "base_uri": "https://localhost:8080/"
        },
        "id": "efBtEhLkBsN4",
        "outputId": "7fd8645e-1af4-42d9-aca0-facffff77a5c"
      },
      "source": [
        "type(scaled_testing)"
      ],
      "execution_count": 8,
      "outputs": [
        {
          "output_type": "execute_result",
          "data": {
            "text/plain": [
              "numpy.ndarray"
            ]
          },
          "metadata": {},
          "execution_count": 8
        }
      ]
    },
    {
      "cell_type": "code",
      "metadata": {
        "id": "2Wh-1ghgB2hJ"
      },
      "source": [
        "# Create new pandas DataFrame objects from the scaled data\n",
        "scaled_training_df = pd.DataFrame(scaled_training, columns=training_data_df.columns.values)\n",
        "scaled_testing_df = pd.DataFrame(scaled_testing, columns=test_data_df.columns.values)"
      ],
      "execution_count": 9,
      "outputs": []
    },
    {
      "cell_type": "code",
      "metadata": {
        "colab": {
          "base_uri": "https://localhost:8080/",
          "height": 141
        },
        "id": "xn2CqrOWB4iA",
        "outputId": "940c8cc2-4df3-40c3-9418-b4395e08f6b5"
      },
      "source": [
        "scaled_testing_df.head(3)"
      ],
      "execution_count": 10,
      "outputs": [
        {
          "output_type": "execute_result",
          "data": {
            "text/html": [
              "<div>\n",
              "<style scoped>\n",
              "    .dataframe tbody tr th:only-of-type {\n",
              "        vertical-align: middle;\n",
              "    }\n",
              "\n",
              "    .dataframe tbody tr th {\n",
              "        vertical-align: top;\n",
              "    }\n",
              "\n",
              "    .dataframe thead th {\n",
              "        text-align: right;\n",
              "    }\n",
              "</style>\n",
              "<table border=\"1\" class=\"dataframe\">\n",
              "  <thead>\n",
              "    <tr style=\"text-align: right;\">\n",
              "      <th></th>\n",
              "      <th>critic_rating</th>\n",
              "      <th>is_action</th>\n",
              "      <th>is_exclusive_to_us</th>\n",
              "      <th>is_portable</th>\n",
              "      <th>is_role_playing</th>\n",
              "      <th>is_sequel</th>\n",
              "      <th>is_sports</th>\n",
              "      <th>suitable_for_kids</th>\n",
              "      <th>total_earnings</th>\n",
              "      <th>unit_price</th>\n",
              "    </tr>\n",
              "  </thead>\n",
              "  <tbody>\n",
              "    <tr>\n",
              "      <th>0</th>\n",
              "      <td>0.500000</td>\n",
              "      <td>1.0</td>\n",
              "      <td>1.0</td>\n",
              "      <td>1.0</td>\n",
              "      <td>0.0</td>\n",
              "      <td>1.0</td>\n",
              "      <td>0.0</td>\n",
              "      <td>1.0</td>\n",
              "      <td>0.799179</td>\n",
              "      <td>1.0</td>\n",
              "    </tr>\n",
              "    <tr>\n",
              "      <th>1</th>\n",
              "      <td>0.166667</td>\n",
              "      <td>0.0</td>\n",
              "      <td>0.0</td>\n",
              "      <td>0.0</td>\n",
              "      <td>1.0</td>\n",
              "      <td>1.0</td>\n",
              "      <td>0.0</td>\n",
              "      <td>0.0</td>\n",
              "      <td>0.157502</td>\n",
              "      <td>1.0</td>\n",
              "    </tr>\n",
              "    <tr>\n",
              "      <th>2</th>\n",
              "      <td>0.500000</td>\n",
              "      <td>0.0</td>\n",
              "      <td>0.0</td>\n",
              "      <td>0.0</td>\n",
              "      <td>0.0</td>\n",
              "      <td>1.0</td>\n",
              "      <td>1.0</td>\n",
              "      <td>0.0</td>\n",
              "      <td>0.189704</td>\n",
              "      <td>1.0</td>\n",
              "    </tr>\n",
              "  </tbody>\n",
              "</table>\n",
              "</div>"
            ],
            "text/plain": [
              "   critic_rating  is_action  ...  total_earnings  unit_price\n",
              "0       0.500000        1.0  ...        0.799179         1.0\n",
              "1       0.166667        0.0  ...        0.157502         1.0\n",
              "2       0.500000        0.0  ...        0.189704         1.0\n",
              "\n",
              "[3 rows x 10 columns]"
            ]
          },
          "metadata": {},
          "execution_count": 10
        }
      ]
    },
    {
      "cell_type": "code",
      "metadata": {
        "id": "7V02CmKt_WYK"
      },
      "source": [
        "# Save scaled data dataframes to new CSV files\n",
        "scaled_training_df.to_csv(\"sales_data_training_scaled.csv\", index=False)\n",
        "scaled_testing_df.to_csv(\"sales_data_test_scaled.csv\", index=False)"
      ],
      "execution_count": 11,
      "outputs": []
    },
    {
      "cell_type": "code",
      "metadata": {
        "id": "lR9RhwnkB4Ak"
      },
      "source": [
        "training_data_df = pd.read_csv(\"sales_data_training_scaled.csv\")"
      ],
      "execution_count": 12,
      "outputs": []
    },
    {
      "cell_type": "code",
      "metadata": {
        "colab": {
          "base_uri": "https://localhost:8080/",
          "height": 141
        },
        "id": "Ntf1uqY4ECdJ",
        "outputId": "28f3fdba-b444-4659-9e35-7fa954cb1f2f"
      },
      "source": [
        "training_data_df.head(3)"
      ],
      "execution_count": 13,
      "outputs": [
        {
          "output_type": "execute_result",
          "data": {
            "text/html": [
              "<div>\n",
              "<style scoped>\n",
              "    .dataframe tbody tr th:only-of-type {\n",
              "        vertical-align: middle;\n",
              "    }\n",
              "\n",
              "    .dataframe tbody tr th {\n",
              "        vertical-align: top;\n",
              "    }\n",
              "\n",
              "    .dataframe thead th {\n",
              "        text-align: right;\n",
              "    }\n",
              "</style>\n",
              "<table border=\"1\" class=\"dataframe\">\n",
              "  <thead>\n",
              "    <tr style=\"text-align: right;\">\n",
              "      <th></th>\n",
              "      <th>critic_rating</th>\n",
              "      <th>is_action</th>\n",
              "      <th>is_exclusive_to_us</th>\n",
              "      <th>is_portable</th>\n",
              "      <th>is_role_playing</th>\n",
              "      <th>is_sequel</th>\n",
              "      <th>is_sports</th>\n",
              "      <th>suitable_for_kids</th>\n",
              "      <th>total_earnings</th>\n",
              "      <th>unit_price</th>\n",
              "    </tr>\n",
              "  </thead>\n",
              "  <tbody>\n",
              "    <tr>\n",
              "      <th>0</th>\n",
              "      <td>0.500000</td>\n",
              "      <td>1.0</td>\n",
              "      <td>0.0</td>\n",
              "      <td>1.0</td>\n",
              "      <td>0.0</td>\n",
              "      <td>1.0</td>\n",
              "      <td>0.0</td>\n",
              "      <td>0.0</td>\n",
              "      <td>0.374714</td>\n",
              "      <td>1.0</td>\n",
              "    </tr>\n",
              "    <tr>\n",
              "      <th>1</th>\n",
              "      <td>0.833333</td>\n",
              "      <td>0.0</td>\n",
              "      <td>0.0</td>\n",
              "      <td>0.0</td>\n",
              "      <td>0.0</td>\n",
              "      <td>1.0</td>\n",
              "      <td>1.0</td>\n",
              "      <td>0.0</td>\n",
              "      <td>0.192425</td>\n",
              "      <td>0.5</td>\n",
              "    </tr>\n",
              "    <tr>\n",
              "      <th>2</th>\n",
              "      <td>0.333333</td>\n",
              "      <td>0.0</td>\n",
              "      <td>0.0</td>\n",
              "      <td>0.0</td>\n",
              "      <td>0.0</td>\n",
              "      <td>1.0</td>\n",
              "      <td>1.0</td>\n",
              "      <td>0.0</td>\n",
              "      <td>0.114852</td>\n",
              "      <td>0.5</td>\n",
              "    </tr>\n",
              "  </tbody>\n",
              "</table>\n",
              "</div>"
            ],
            "text/plain": [
              "   critic_rating  is_action  ...  total_earnings  unit_price\n",
              "0       0.500000        1.0  ...        0.374714         1.0\n",
              "1       0.833333        0.0  ...        0.192425         0.5\n",
              "2       0.333333        0.0  ...        0.114852         0.5\n",
              "\n",
              "[3 rows x 10 columns]"
            ]
          },
          "metadata": {},
          "execution_count": 13
        }
      ]
    },
    {
      "cell_type": "code",
      "metadata": {
        "id": "MRKwdHETEABW"
      },
      "source": [
        "X = training_data_df.drop('total_earnings', axis=1).values\n",
        "Y = training_data_df[['total_earnings']].values"
      ],
      "execution_count": 14,
      "outputs": []
    },
    {
      "cell_type": "code",
      "metadata": {
        "id": "E9U-j4Y9EB6X"
      },
      "source": [
        "# Define the model\n",
        "from keras.models import Sequential\n",
        "from keras.layers import *\n",
        "model = Sequential()\n",
        "model.add(Dense(50,input_dim = 9,activation='relu',name='layer_1'))\n",
        "model.add(Dense(100,activation='relu',name='layer_2'))\n",
        "model.add(Dense(50,activation='relu',name='layer_3'))\n",
        "model.add(Dense(1,activation='linear',name='output_layer'))\n",
        "model.compile(loss=\"mean_squared_error\",optimizer=\"adam\")"
      ],
      "execution_count": 19,
      "outputs": []
    },
    {
      "cell_type": "code",
      "metadata": {
        "id": "wlvkd71KL6mx"
      },
      "source": [
        "import keras\n",
        "# Create a TensorBoard logger\n",
        "logger = keras.callbacks.TensorBoard(\n",
        "    log_dir='logs',\n",
        "    write_graph=True,\n",
        "    histogram_freq=5\n",
        ")\n"
      ],
      "execution_count": 20,
      "outputs": []
    },
    {
      "cell_type": "code",
      "metadata": {
        "colab": {
          "base_uri": "https://localhost:8080/"
        },
        "id": "h5RjkXTAFZPv",
        "outputId": "2185f3a3-995b-4f15-98ca-6cb1fbb15d7a"
      },
      "source": [
        "#Train the model\n",
        "model.fit(X,Y,\n",
        "          epochs=50,\n",
        "          shuffle=True,\n",
        "          verbose=2,\n",
        "          callbacks=[logger])"
      ],
      "execution_count": 21,
      "outputs": [
        {
          "output_type": "stream",
          "name": "stdout",
          "text": [
            "Epoch 1/50\n",
            "32/32 - 1s - loss: 0.0103\n",
            "Epoch 2/50\n",
            "32/32 - 0s - loss: 0.0014\n",
            "Epoch 3/50\n",
            "32/32 - 0s - loss: 5.4881e-04\n",
            "Epoch 4/50\n",
            "32/32 - 0s - loss: 2.7483e-04\n",
            "Epoch 5/50\n",
            "32/32 - 0s - loss: 1.8502e-04\n",
            "Epoch 6/50\n",
            "32/32 - 0s - loss: 1.4086e-04\n",
            "Epoch 7/50\n",
            "32/32 - 0s - loss: 1.1869e-04\n",
            "Epoch 8/50\n",
            "32/32 - 0s - loss: 1.0863e-04\n",
            "Epoch 9/50\n",
            "32/32 - 0s - loss: 7.3082e-05\n",
            "Epoch 10/50\n",
            "32/32 - 0s - loss: 6.6052e-05\n",
            "Epoch 11/50\n",
            "32/32 - 0s - loss: 7.8320e-05\n",
            "Epoch 12/50\n",
            "32/32 - 0s - loss: 6.6515e-05\n",
            "Epoch 13/50\n",
            "32/32 - 0s - loss: 4.2608e-05\n",
            "Epoch 14/50\n",
            "32/32 - 0s - loss: 5.3067e-05\n",
            "Epoch 15/50\n",
            "32/32 - 0s - loss: 3.5204e-05\n",
            "Epoch 16/50\n",
            "32/32 - 0s - loss: 3.2998e-05\n",
            "Epoch 17/50\n",
            "32/32 - 0s - loss: 3.3933e-05\n",
            "Epoch 18/50\n",
            "32/32 - 0s - loss: 3.4996e-05\n",
            "Epoch 19/50\n",
            "32/32 - 0s - loss: 3.2750e-05\n",
            "Epoch 20/50\n",
            "32/32 - 0s - loss: 2.7186e-05\n",
            "Epoch 21/50\n",
            "32/32 - 0s - loss: 4.1206e-05\n",
            "Epoch 22/50\n",
            "32/32 - 0s - loss: 3.8985e-05\n",
            "Epoch 23/50\n",
            "32/32 - 0s - loss: 2.7616e-05\n",
            "Epoch 24/50\n",
            "32/32 - 0s - loss: 2.8479e-05\n",
            "Epoch 25/50\n",
            "32/32 - 0s - loss: 2.3719e-05\n",
            "Epoch 26/50\n",
            "32/32 - 0s - loss: 2.8781e-05\n",
            "Epoch 27/50\n",
            "32/32 - 0s - loss: 2.4541e-05\n",
            "Epoch 28/50\n",
            "32/32 - 0s - loss: 2.5109e-05\n",
            "Epoch 29/50\n",
            "32/32 - 0s - loss: 3.1468e-05\n",
            "Epoch 30/50\n",
            "32/32 - 0s - loss: 7.2068e-05\n",
            "Epoch 31/50\n",
            "32/32 - 0s - loss: 4.3635e-05\n",
            "Epoch 32/50\n",
            "32/32 - 0s - loss: 5.4081e-05\n",
            "Epoch 33/50\n",
            "32/32 - 0s - loss: 3.4116e-05\n",
            "Epoch 34/50\n",
            "32/32 - 0s - loss: 2.0271e-05\n",
            "Epoch 35/50\n",
            "32/32 - 0s - loss: 3.1287e-05\n",
            "Epoch 36/50\n",
            "32/32 - 0s - loss: 3.7540e-05\n",
            "Epoch 37/50\n",
            "32/32 - 0s - loss: 3.9001e-05\n",
            "Epoch 38/50\n",
            "32/32 - 0s - loss: 4.2225e-05\n",
            "Epoch 39/50\n",
            "32/32 - 0s - loss: 5.6783e-05\n",
            "Epoch 40/50\n",
            "32/32 - 0s - loss: 7.8058e-05\n",
            "Epoch 41/50\n",
            "32/32 - 0s - loss: 4.3054e-05\n",
            "Epoch 42/50\n",
            "32/32 - 0s - loss: 4.4525e-05\n",
            "Epoch 43/50\n",
            "32/32 - 0s - loss: 3.7948e-05\n",
            "Epoch 44/50\n",
            "32/32 - 0s - loss: 3.8895e-05\n",
            "Epoch 45/50\n",
            "32/32 - 0s - loss: 5.8047e-05\n",
            "Epoch 46/50\n",
            "32/32 - 0s - loss: 3.0008e-05\n",
            "Epoch 47/50\n",
            "32/32 - 0s - loss: 4.8416e-05\n",
            "Epoch 48/50\n",
            "32/32 - 0s - loss: 4.9520e-05\n",
            "Epoch 49/50\n",
            "32/32 - 0s - loss: 3.6656e-05\n",
            "Epoch 50/50\n",
            "32/32 - 0s - loss: 2.7455e-05\n"
          ]
        },
        {
          "output_type": "execute_result",
          "data": {
            "text/plain": [
              "<keras.callbacks.History at 0x7f8be76baf50>"
            ]
          },
          "metadata": {},
          "execution_count": 21
        }
      ]
    },
    {
      "cell_type": "code",
      "metadata": {
        "colab": {
          "base_uri": "https://localhost:8080/"
        },
        "id": "1VI-_RPJHztR",
        "outputId": "454cdfe5-becc-4811-a809-9d76508d28a7"
      },
      "source": [
        "# Load the separate test data set\n",
        "test_data_df = pd.read_csv(\"sales_data_test_scaled.csv\")\n",
        "\n",
        "X_test = test_data_df.drop('total_earnings', axis=1).values\n",
        "Y_test = test_data_df[['total_earnings']].values\n",
        "\n",
        "test_error_rate =model.evaluate(X_test,Y_test,verbose=0)\n",
        "print(\"The mean squared error (MSE) for the test data set is: {}\".format(test_error_rate))"
      ],
      "execution_count": 22,
      "outputs": [
        {
          "output_type": "stream",
          "name": "stdout",
          "text": [
            "The mean squared error (MSE) for the test data set is: 8.514883666066453e-05\n"
          ]
        }
      ]
    },
    {
      "cell_type": "code",
      "metadata": {
        "colab": {
          "base_uri": "https://localhost:8080/"
        },
        "id": "BTO-K9s5IZuO",
        "outputId": "7e0a24e2-74e8-4e0e-a48a-1e039f352bb2"
      },
      "source": [
        "# Load the data we make to use to make a prediction\n",
        "X = pd.read_csv(\"proposed_new_product.csv\").values\n",
        "\n",
        "# Make a prediction with the neural network\n",
        "prediction =model.predict(X)\n",
        "\n",
        "# Grab just the first element of the first prediction (since that's the only have one)\n",
        "prediction = prediction[0][0]\n",
        "\n",
        "# Re-scale the data from the 0-to-1 range back to dollars\n",
        "# These constants are from when the data was originally scaled down to the 0-to-1 range\n",
        "prediction = prediction + 0.1159\n",
        "prediction = prediction / 0.0000036968\n",
        "\n",
        "print(\"Earnings Prediction for Proposed Product - ${}\".format(prediction))"
      ],
      "execution_count": 24,
      "outputs": [
        {
          "output_type": "stream",
          "name": "stdout",
          "text": [
            "Earnings Prediction for Proposed Product - $261768.391291782\n"
          ]
        }
      ]
    },
    {
      "cell_type": "code",
      "metadata": {
        "colab": {
          "base_uri": "https://localhost:8080/"
        },
        "id": "NdhlgSI7K6gT",
        "outputId": "9150277f-ce43-4988-ef39-afe293b606d3"
      },
      "source": [
        "model.save(\"trained_model.h5\")\n",
        "print(\"Model saved to disk.\")"
      ],
      "execution_count": 25,
      "outputs": [
        {
          "output_type": "stream",
          "name": "stdout",
          "text": [
            "Model saved to disk.\n"
          ]
        }
      ]
    },
    {
      "cell_type": "code",
      "metadata": {
        "id": "sSnBItLQMccp"
      },
      "source": [
        "from keras.models import load_model"
      ],
      "execution_count": 26,
      "outputs": []
    },
    {
      "cell_type": "code",
      "metadata": {
        "id": "zQgnwdetMTbV"
      },
      "source": [
        "model1=load_model(\"trained_model.h5\")"
      ],
      "execution_count": 27,
      "outputs": []
    },
    {
      "cell_type": "code",
      "metadata": {
        "colab": {
          "base_uri": "https://localhost:8080/"
        },
        "id": "xdg0zeXjMkdw",
        "outputId": "a71bea50-79c9-40e6-97f2-f0dcd7095883"
      },
      "source": [
        "X = pd.read_csv(\"proposed_new_product.csv\").values\n",
        "prediction = model1.predict(X)\n",
        "\n",
        "# Grab just the first element of the first prediction (since we only have one)\n",
        "prediction = prediction[0][0]\n",
        "\n",
        "# Re-scale the data from the 0-to-1 range back to dollars\n",
        "# These constants are from when the data was originally scaled down to the 0-to-1 range\n",
        "prediction = prediction + 0.1159\n",
        "prediction = prediction / 0.0000036968\n",
        "\n",
        "print(\"Earnings Prediction for Proposed Product - ${}\".format(prediction))"
      ],
      "execution_count": 28,
      "outputs": [
        {
          "output_type": "stream",
          "name": "stdout",
          "text": [
            "Earnings Prediction for Proposed Product - $261768.391291782\n"
          ]
        }
      ]
    },
    {
      "cell_type": "code",
      "metadata": {
        "id": "R2LKnHO8PnG3"
      },
      "source": [
        ""
      ],
      "execution_count": null,
      "outputs": []
    }
  ]
}