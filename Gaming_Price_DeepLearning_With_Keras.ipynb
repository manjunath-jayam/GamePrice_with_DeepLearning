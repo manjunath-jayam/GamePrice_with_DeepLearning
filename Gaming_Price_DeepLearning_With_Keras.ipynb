{
  "nbformat": 4,
  "nbformat_minor": 0,
  "metadata": {
    "colab": {
      "name": "Gaming Price DeepLearning With Keras.ipynb",
      "provenance": []
    },
    "kernelspec": {
      "name": "python3",
      "display_name": "Python 3"
    },
    "language_info": {
      "name": "python"
    }
  },
  "cells": [
    {
      "cell_type": "markdown",
      "metadata": {
        "id": "iBRcXcY-_lZF"
      },
      "source": [
        "Preprocess data"
      ]
    },
    {
      "cell_type": "code",
      "metadata": {
        "id": "CUubrcuJ_48I"
      },
      "source": [
        "import pandas as pd\n",
        "from sklearn.preprocessing import MinMaxScaler"
      ],
      "execution_count": 1,
      "outputs": []
    },
    {
      "cell_type": "code",
      "metadata": {
        "id": "Gmg2lzVGAWLL"
      },
      "source": [
        "# Load training data set from CSV file\n",
        "training_data_df =pd.read_csv(\"sales_data_training.csv\")\n",
        "\n",
        "# Load testing data set from CSV file\n",
        "test_data_df =pd.read_csv(\"sales_data_test.csv\")"
      ],
      "execution_count": 2,
      "outputs": []
    },
    {
      "cell_type": "code",
      "metadata": {
        "colab": {
          "base_uri": "https://localhost:8080/",
          "height": 141
        },
        "id": "M-RBrQRfAXG1",
        "outputId": "2d14803d-0e67-4c11-eca1-f817f3e2b0fb"
      },
      "source": [
        "training_data_df.head(3)"
      ],
      "execution_count": 4,
      "outputs": [
        {
          "output_type": "execute_result",
          "data": {
            "text/html": [
              "<div>\n",
              "<style scoped>\n",
              "    .dataframe tbody tr th:only-of-type {\n",
              "        vertical-align: middle;\n",
              "    }\n",
              "\n",
              "    .dataframe tbody tr th {\n",
              "        vertical-align: top;\n",
              "    }\n",
              "\n",
              "    .dataframe thead th {\n",
              "        text-align: right;\n",
              "    }\n",
              "</style>\n",
              "<table border=\"1\" class=\"dataframe\">\n",
              "  <thead>\n",
              "    <tr style=\"text-align: right;\">\n",
              "      <th></th>\n",
              "      <th>critic_rating</th>\n",
              "      <th>is_action</th>\n",
              "      <th>is_exclusive_to_us</th>\n",
              "      <th>is_portable</th>\n",
              "      <th>is_role_playing</th>\n",
              "      <th>is_sequel</th>\n",
              "      <th>is_sports</th>\n",
              "      <th>suitable_for_kids</th>\n",
              "      <th>total_earnings</th>\n",
              "      <th>unit_price</th>\n",
              "    </tr>\n",
              "  </thead>\n",
              "  <tbody>\n",
              "    <tr>\n",
              "      <th>0</th>\n",
              "      <td>3.5</td>\n",
              "      <td>1</td>\n",
              "      <td>0</td>\n",
              "      <td>1</td>\n",
              "      <td>0</td>\n",
              "      <td>1</td>\n",
              "      <td>0</td>\n",
              "      <td>0</td>\n",
              "      <td>132717</td>\n",
              "      <td>59.99</td>\n",
              "    </tr>\n",
              "    <tr>\n",
              "      <th>1</th>\n",
              "      <td>4.5</td>\n",
              "      <td>0</td>\n",
              "      <td>0</td>\n",
              "      <td>0</td>\n",
              "      <td>0</td>\n",
              "      <td>1</td>\n",
              "      <td>1</td>\n",
              "      <td>0</td>\n",
              "      <td>83407</td>\n",
              "      <td>49.99</td>\n",
              "    </tr>\n",
              "    <tr>\n",
              "      <th>2</th>\n",
              "      <td>3.0</td>\n",
              "      <td>0</td>\n",
              "      <td>0</td>\n",
              "      <td>0</td>\n",
              "      <td>0</td>\n",
              "      <td>1</td>\n",
              "      <td>1</td>\n",
              "      <td>0</td>\n",
              "      <td>62423</td>\n",
              "      <td>49.99</td>\n",
              "    </tr>\n",
              "  </tbody>\n",
              "</table>\n",
              "</div>"
            ],
            "text/plain": [
              "   critic_rating  is_action  ...  total_earnings  unit_price\n",
              "0            3.5          1  ...          132717       59.99\n",
              "1            4.5          0  ...           83407       49.99\n",
              "2            3.0          0  ...           62423       49.99\n",
              "\n",
              "[3 rows x 10 columns]"
            ]
          },
          "metadata": {},
          "execution_count": 4
        }
      ]
    },
    {
      "cell_type": "code",
      "metadata": {
        "colab": {
          "base_uri": "https://localhost:8080/",
          "height": 141
        },
        "id": "jP_xWCxGAcVV",
        "outputId": "65f90b01-a306-46c1-8079-f9a6214c83b0"
      },
      "source": [
        "test_data_df.head(3)"
      ],
      "execution_count": 5,
      "outputs": [
        {
          "output_type": "execute_result",
          "data": {
            "text/html": [
              "<div>\n",
              "<style scoped>\n",
              "    .dataframe tbody tr th:only-of-type {\n",
              "        vertical-align: middle;\n",
              "    }\n",
              "\n",
              "    .dataframe tbody tr th {\n",
              "        vertical-align: top;\n",
              "    }\n",
              "\n",
              "    .dataframe thead th {\n",
              "        text-align: right;\n",
              "    }\n",
              "</style>\n",
              "<table border=\"1\" class=\"dataframe\">\n",
              "  <thead>\n",
              "    <tr style=\"text-align: right;\">\n",
              "      <th></th>\n",
              "      <th>critic_rating</th>\n",
              "      <th>is_action</th>\n",
              "      <th>is_exclusive_to_us</th>\n",
              "      <th>is_portable</th>\n",
              "      <th>is_role_playing</th>\n",
              "      <th>is_sequel</th>\n",
              "      <th>is_sports</th>\n",
              "      <th>suitable_for_kids</th>\n",
              "      <th>total_earnings</th>\n",
              "      <th>unit_price</th>\n",
              "    </tr>\n",
              "  </thead>\n",
              "  <tbody>\n",
              "    <tr>\n",
              "      <th>0</th>\n",
              "      <td>3.5</td>\n",
              "      <td>1</td>\n",
              "      <td>1</td>\n",
              "      <td>1</td>\n",
              "      <td>0</td>\n",
              "      <td>1</td>\n",
              "      <td>0</td>\n",
              "      <td>1</td>\n",
              "      <td>247537</td>\n",
              "      <td>59.99</td>\n",
              "    </tr>\n",
              "    <tr>\n",
              "      <th>1</th>\n",
              "      <td>2.5</td>\n",
              "      <td>0</td>\n",
              "      <td>0</td>\n",
              "      <td>0</td>\n",
              "      <td>1</td>\n",
              "      <td>1</td>\n",
              "      <td>0</td>\n",
              "      <td>0</td>\n",
              "      <td>73960</td>\n",
              "      <td>59.99</td>\n",
              "    </tr>\n",
              "    <tr>\n",
              "      <th>2</th>\n",
              "      <td>3.5</td>\n",
              "      <td>0</td>\n",
              "      <td>0</td>\n",
              "      <td>0</td>\n",
              "      <td>0</td>\n",
              "      <td>1</td>\n",
              "      <td>1</td>\n",
              "      <td>0</td>\n",
              "      <td>82671</td>\n",
              "      <td>59.99</td>\n",
              "    </tr>\n",
              "  </tbody>\n",
              "</table>\n",
              "</div>"
            ],
            "text/plain": [
              "   critic_rating  is_action  ...  total_earnings  unit_price\n",
              "0            3.5          1  ...          247537       59.99\n",
              "1            2.5          0  ...           73960       59.99\n",
              "2            3.5          0  ...           82671       59.99\n",
              "\n",
              "[3 rows x 10 columns]"
            ]
          },
          "metadata": {},
          "execution_count": 5
        }
      ]
    },
    {
      "cell_type": "code",
      "metadata": {
        "id": "kMYQ3ytVA1dQ"
      },
      "source": [
        "# Data needs to be scaled to a small range like 0 to 1 for the neural\n",
        "# network to work well.\n",
        "scaler = MinMaxScaler(feature_range=(0,1))"
      ],
      "execution_count": 6,
      "outputs": []
    },
    {
      "cell_type": "code",
      "metadata": {
        "colab": {
          "base_uri": "https://localhost:8080/"
        },
        "id": "lrni9gqyBY45",
        "outputId": "6ba36f0d-c42c-4221-b88c-2c20ce80174e"
      },
      "source": [
        "# Scale both the training inputs and outputs\n",
        "scaled_training = scaler.fit_transform(training_data_df)\n",
        "scaled_testing = scaler.transform(test_data_df)\n",
        "\n",
        "# Print out the adjustment that the scaler applied to the total_earnings column of data\n",
        "print(\"Note: total_earnings values were scaled by multiplying by {:.10f} and adding {:.6f}\".format(scaler.scale_[8], scaler.min_[8]))"
      ],
      "execution_count": 7,
      "outputs": [
        {
          "output_type": "stream",
          "name": "stdout",
          "text": [
            "Note: total_earnings values were scaled by multiplying by 0.0000036968 and adding -0.115913\n"
          ]
        }
      ]
    },
    {
      "cell_type": "code",
      "metadata": {
        "colab": {
          "base_uri": "https://localhost:8080/"
        },
        "id": "efBtEhLkBsN4",
        "outputId": "7cd5e1c2-b1fb-40eb-e689-8226f9e9c45e"
      },
      "source": [
        "type(scaled_testing)"
      ],
      "execution_count": 9,
      "outputs": [
        {
          "output_type": "execute_result",
          "data": {
            "text/plain": [
              "numpy.ndarray"
            ]
          },
          "metadata": {},
          "execution_count": 9
        }
      ]
    },
    {
      "cell_type": "code",
      "metadata": {
        "id": "2Wh-1ghgB2hJ"
      },
      "source": [
        "# Create new pandas DataFrame objects from the scaled data\n",
        "scaled_training_df = pd.DataFrame(scaled_training, columns=training_data_df.columns.values)\n",
        "scaled_testing_df = pd.DataFrame(scaled_testing, columns=test_data_df.columns.values)"
      ],
      "execution_count": 10,
      "outputs": []
    },
    {
      "cell_type": "code",
      "metadata": {
        "colab": {
          "base_uri": "https://localhost:8080/",
          "height": 141
        },
        "id": "xn2CqrOWB4iA",
        "outputId": "6bbac9c6-208b-4893-80ad-4e4d5ea007ed"
      },
      "source": [
        "scaled_testing_df.head(3)"
      ],
      "execution_count": 12,
      "outputs": [
        {
          "output_type": "execute_result",
          "data": {
            "text/html": [
              "<div>\n",
              "<style scoped>\n",
              "    .dataframe tbody tr th:only-of-type {\n",
              "        vertical-align: middle;\n",
              "    }\n",
              "\n",
              "    .dataframe tbody tr th {\n",
              "        vertical-align: top;\n",
              "    }\n",
              "\n",
              "    .dataframe thead th {\n",
              "        text-align: right;\n",
              "    }\n",
              "</style>\n",
              "<table border=\"1\" class=\"dataframe\">\n",
              "  <thead>\n",
              "    <tr style=\"text-align: right;\">\n",
              "      <th></th>\n",
              "      <th>critic_rating</th>\n",
              "      <th>is_action</th>\n",
              "      <th>is_exclusive_to_us</th>\n",
              "      <th>is_portable</th>\n",
              "      <th>is_role_playing</th>\n",
              "      <th>is_sequel</th>\n",
              "      <th>is_sports</th>\n",
              "      <th>suitable_for_kids</th>\n",
              "      <th>total_earnings</th>\n",
              "      <th>unit_price</th>\n",
              "    </tr>\n",
              "  </thead>\n",
              "  <tbody>\n",
              "    <tr>\n",
              "      <th>0</th>\n",
              "      <td>0.500000</td>\n",
              "      <td>1.0</td>\n",
              "      <td>1.0</td>\n",
              "      <td>1.0</td>\n",
              "      <td>0.0</td>\n",
              "      <td>1.0</td>\n",
              "      <td>0.0</td>\n",
              "      <td>1.0</td>\n",
              "      <td>0.799179</td>\n",
              "      <td>1.0</td>\n",
              "    </tr>\n",
              "    <tr>\n",
              "      <th>1</th>\n",
              "      <td>0.166667</td>\n",
              "      <td>0.0</td>\n",
              "      <td>0.0</td>\n",
              "      <td>0.0</td>\n",
              "      <td>1.0</td>\n",
              "      <td>1.0</td>\n",
              "      <td>0.0</td>\n",
              "      <td>0.0</td>\n",
              "      <td>0.157502</td>\n",
              "      <td>1.0</td>\n",
              "    </tr>\n",
              "    <tr>\n",
              "      <th>2</th>\n",
              "      <td>0.500000</td>\n",
              "      <td>0.0</td>\n",
              "      <td>0.0</td>\n",
              "      <td>0.0</td>\n",
              "      <td>0.0</td>\n",
              "      <td>1.0</td>\n",
              "      <td>1.0</td>\n",
              "      <td>0.0</td>\n",
              "      <td>0.189704</td>\n",
              "      <td>1.0</td>\n",
              "    </tr>\n",
              "  </tbody>\n",
              "</table>\n",
              "</div>"
            ],
            "text/plain": [
              "   critic_rating  is_action  ...  total_earnings  unit_price\n",
              "0       0.500000        1.0  ...        0.799179         1.0\n",
              "1       0.166667        0.0  ...        0.157502         1.0\n",
              "2       0.500000        0.0  ...        0.189704         1.0\n",
              "\n",
              "[3 rows x 10 columns]"
            ]
          },
          "metadata": {},
          "execution_count": 12
        }
      ]
    },
    {
      "cell_type": "code",
      "metadata": {
        "id": "7V02CmKt_WYK"
      },
      "source": [
        "# Save scaled data dataframes to new CSV files\n",
        "scaled_training_df.to_csv(\"sales_data_training_scaled.csv\", index=False)\n",
        "scaled_testing_df.to_csv(\"sales_data_test_scaled.csv\", index=False)"
      ],
      "execution_count": 11,
      "outputs": []
    },
    {
      "cell_type": "code",
      "metadata": {
        "id": "lR9RhwnkB4Ak"
      },
      "source": [
        "training_data_df = pd.read_csv(\"sales_data_training_scaled.csv\")"
      ],
      "execution_count": 13,
      "outputs": []
    },
    {
      "cell_type": "code",
      "metadata": {
        "colab": {
          "base_uri": "https://localhost:8080/",
          "height": 141
        },
        "id": "Ntf1uqY4ECdJ",
        "outputId": "5f6172ec-e454-4011-9fec-4beaec6831af"
      },
      "source": [
        "training_data_df.head(3)"
      ],
      "execution_count": 15,
      "outputs": [
        {
          "output_type": "execute_result",
          "data": {
            "text/html": [
              "<div>\n",
              "<style scoped>\n",
              "    .dataframe tbody tr th:only-of-type {\n",
              "        vertical-align: middle;\n",
              "    }\n",
              "\n",
              "    .dataframe tbody tr th {\n",
              "        vertical-align: top;\n",
              "    }\n",
              "\n",
              "    .dataframe thead th {\n",
              "        text-align: right;\n",
              "    }\n",
              "</style>\n",
              "<table border=\"1\" class=\"dataframe\">\n",
              "  <thead>\n",
              "    <tr style=\"text-align: right;\">\n",
              "      <th></th>\n",
              "      <th>critic_rating</th>\n",
              "      <th>is_action</th>\n",
              "      <th>is_exclusive_to_us</th>\n",
              "      <th>is_portable</th>\n",
              "      <th>is_role_playing</th>\n",
              "      <th>is_sequel</th>\n",
              "      <th>is_sports</th>\n",
              "      <th>suitable_for_kids</th>\n",
              "      <th>total_earnings</th>\n",
              "      <th>unit_price</th>\n",
              "    </tr>\n",
              "  </thead>\n",
              "  <tbody>\n",
              "    <tr>\n",
              "      <th>0</th>\n",
              "      <td>0.500000</td>\n",
              "      <td>1.0</td>\n",
              "      <td>0.0</td>\n",
              "      <td>1.0</td>\n",
              "      <td>0.0</td>\n",
              "      <td>1.0</td>\n",
              "      <td>0.0</td>\n",
              "      <td>0.0</td>\n",
              "      <td>0.374714</td>\n",
              "      <td>1.0</td>\n",
              "    </tr>\n",
              "    <tr>\n",
              "      <th>1</th>\n",
              "      <td>0.833333</td>\n",
              "      <td>0.0</td>\n",
              "      <td>0.0</td>\n",
              "      <td>0.0</td>\n",
              "      <td>0.0</td>\n",
              "      <td>1.0</td>\n",
              "      <td>1.0</td>\n",
              "      <td>0.0</td>\n",
              "      <td>0.192425</td>\n",
              "      <td>0.5</td>\n",
              "    </tr>\n",
              "    <tr>\n",
              "      <th>2</th>\n",
              "      <td>0.333333</td>\n",
              "      <td>0.0</td>\n",
              "      <td>0.0</td>\n",
              "      <td>0.0</td>\n",
              "      <td>0.0</td>\n",
              "      <td>1.0</td>\n",
              "      <td>1.0</td>\n",
              "      <td>0.0</td>\n",
              "      <td>0.114852</td>\n",
              "      <td>0.5</td>\n",
              "    </tr>\n",
              "  </tbody>\n",
              "</table>\n",
              "</div>"
            ],
            "text/plain": [
              "   critic_rating  is_action  ...  total_earnings  unit_price\n",
              "0       0.500000        1.0  ...        0.374714         1.0\n",
              "1       0.833333        0.0  ...        0.192425         0.5\n",
              "2       0.333333        0.0  ...        0.114852         0.5\n",
              "\n",
              "[3 rows x 10 columns]"
            ]
          },
          "metadata": {},
          "execution_count": 15
        }
      ]
    },
    {
      "cell_type": "code",
      "metadata": {
        "id": "MRKwdHETEABW"
      },
      "source": [
        "X = training_data_df.drop('total_earnings', axis=1).values\n",
        "Y = training_data_df[['total_earnings']].values"
      ],
      "execution_count": 22,
      "outputs": []
    },
    {
      "cell_type": "code",
      "metadata": {
        "id": "E9U-j4Y9EB6X"
      },
      "source": [
        "# Define the model\n",
        "from keras.models import Sequential\n",
        "from keras.layers import *\n",
        "model = Sequential()\n",
        "model.add(Dense(50,input_dim = 9,activation='relu'))\n",
        "model.add(Dense(100,activation='relu'))\n",
        "model.add(Dense(50,activation='relu'))\n",
        "model.add(Dense(1,activation='linear'))\n",
        "model.compile(loss=\"mean_squared_error\",optimizer=\"adam\")"
      ],
      "execution_count": 24,
      "outputs": []
    },
    {
      "cell_type": "code",
      "metadata": {
        "colab": {
          "base_uri": "https://localhost:8080/"
        },
        "id": "h5RjkXTAFZPv",
        "outputId": "1d7a393e-2a45-4f7b-8feb-7041ea5a9fd5"
      },
      "source": [
        "#Train the model\n",
        "model.fit(X,Y,\n",
        "          epochs=50,\n",
        "          shuffle=True,\n",
        "          verbose=2)"
      ],
      "execution_count": 26,
      "outputs": [
        {
          "output_type": "stream",
          "name": "stdout",
          "text": [
            "Epoch 1/50\n",
            "32/32 - 0s - loss: 1.7840e-05\n",
            "Epoch 2/50\n",
            "32/32 - 0s - loss: 2.5212e-05\n",
            "Epoch 3/50\n",
            "32/32 - 0s - loss: 1.7033e-05\n",
            "Epoch 4/50\n",
            "32/32 - 0s - loss: 1.6258e-05\n",
            "Epoch 5/50\n",
            "32/32 - 0s - loss: 2.2085e-05\n",
            "Epoch 6/50\n",
            "32/32 - 0s - loss: 1.9872e-05\n",
            "Epoch 7/50\n",
            "32/32 - 0s - loss: 1.8374e-05\n",
            "Epoch 8/50\n",
            "32/32 - 0s - loss: 2.5830e-05\n",
            "Epoch 9/50\n",
            "32/32 - 0s - loss: 3.3400e-05\n",
            "Epoch 10/50\n",
            "32/32 - 0s - loss: 2.4125e-05\n",
            "Epoch 11/50\n",
            "32/32 - 0s - loss: 2.1272e-05\n",
            "Epoch 12/50\n",
            "32/32 - 0s - loss: 2.0870e-05\n",
            "Epoch 13/50\n",
            "32/32 - 0s - loss: 3.9911e-05\n",
            "Epoch 14/50\n",
            "32/32 - 0s - loss: 4.3284e-05\n",
            "Epoch 15/50\n",
            "32/32 - 0s - loss: 2.3923e-05\n",
            "Epoch 16/50\n",
            "32/32 - 0s - loss: 2.2724e-05\n",
            "Epoch 17/50\n",
            "32/32 - 0s - loss: 2.2219e-05\n",
            "Epoch 18/50\n",
            "32/32 - 0s - loss: 2.4366e-05\n",
            "Epoch 19/50\n",
            "32/32 - 0s - loss: 3.2197e-05\n",
            "Epoch 20/50\n",
            "32/32 - 0s - loss: 3.2908e-05\n",
            "Epoch 21/50\n",
            "32/32 - 0s - loss: 2.0300e-05\n",
            "Epoch 22/50\n",
            "32/32 - 0s - loss: 1.8905e-05\n",
            "Epoch 23/50\n",
            "32/32 - 0s - loss: 2.1425e-05\n",
            "Epoch 24/50\n",
            "32/32 - 0s - loss: 3.2572e-05\n",
            "Epoch 25/50\n",
            "32/32 - 0s - loss: 7.2788e-05\n",
            "Epoch 26/50\n",
            "32/32 - 0s - loss: 3.2949e-05\n",
            "Epoch 27/50\n",
            "32/32 - 0s - loss: 3.4887e-05\n",
            "Epoch 28/50\n",
            "32/32 - 0s - loss: 2.9097e-05\n",
            "Epoch 29/50\n",
            "32/32 - 0s - loss: 1.7747e-05\n",
            "Epoch 30/50\n",
            "32/32 - 0s - loss: 2.0673e-05\n",
            "Epoch 31/50\n",
            "32/32 - 0s - loss: 1.7474e-05\n",
            "Epoch 32/50\n",
            "32/32 - 0s - loss: 2.0130e-05\n",
            "Epoch 33/50\n",
            "32/32 - 0s - loss: 1.7518e-05\n",
            "Epoch 34/50\n",
            "32/32 - 0s - loss: 2.5295e-05\n",
            "Epoch 35/50\n",
            "32/32 - 0s - loss: 3.2211e-05\n",
            "Epoch 36/50\n",
            "32/32 - 0s - loss: 3.4357e-05\n",
            "Epoch 37/50\n",
            "32/32 - 0s - loss: 3.4289e-05\n",
            "Epoch 38/50\n",
            "32/32 - 0s - loss: 4.7435e-05\n",
            "Epoch 39/50\n",
            "32/32 - 0s - loss: 2.9666e-05\n",
            "Epoch 40/50\n",
            "32/32 - 0s - loss: 3.1592e-05\n",
            "Epoch 41/50\n",
            "32/32 - 0s - loss: 5.4540e-05\n",
            "Epoch 42/50\n",
            "32/32 - 0s - loss: 3.8241e-05\n",
            "Epoch 43/50\n",
            "32/32 - 0s - loss: 3.6473e-05\n",
            "Epoch 44/50\n",
            "32/32 - 0s - loss: 3.7421e-05\n",
            "Epoch 45/50\n",
            "32/32 - 0s - loss: 3.6244e-05\n",
            "Epoch 46/50\n",
            "32/32 - 0s - loss: 3.2577e-05\n",
            "Epoch 47/50\n",
            "32/32 - 0s - loss: 3.7965e-05\n",
            "Epoch 48/50\n",
            "32/32 - 0s - loss: 2.6079e-05\n",
            "Epoch 49/50\n",
            "32/32 - 0s - loss: 2.8002e-05\n",
            "Epoch 50/50\n",
            "32/32 - 0s - loss: 2.7735e-05\n"
          ]
        },
        {
          "output_type": "execute_result",
          "data": {
            "text/plain": [
              "<keras.callbacks.History at 0x7fbd9beae090>"
            ]
          },
          "metadata": {},
          "execution_count": 26
        }
      ]
    },
    {
      "cell_type": "code",
      "metadata": {
        "colab": {
          "base_uri": "https://localhost:8080/"
        },
        "id": "1VI-_RPJHztR",
        "outputId": "f0971887-011f-4db2-8569-a6d871fbb1c9"
      },
      "source": [
        "# Load the separate test data set\n",
        "test_data_df = pd.read_csv(\"sales_data_test_scaled.csv\")\n",
        "\n",
        "X_test = test_data_df.drop('total_earnings', axis=1).values\n",
        "Y_test = test_data_df[['total_earnings']].values\n",
        "\n",
        "test_error_rate =model.evaluate(X_test,Y_test,verbose=0)\n",
        "print(\"The mean squared error (MSE) for the test data set is: {}\".format(test_error_rate))"
      ],
      "execution_count": 27,
      "outputs": [
        {
          "output_type": "stream",
          "name": "stdout",
          "text": [
            "The mean squared error (MSE) for the test data set is: 0.00013444724027067423\n"
          ]
        }
      ]
    },
    {
      "cell_type": "code",
      "metadata": {
        "colab": {
          "base_uri": "https://localhost:8080/"
        },
        "id": "BTO-K9s5IZuO",
        "outputId": "1c67700b-4467-46c2-bbcf-a51aa159dbbd"
      },
      "source": [
        "# Load the data we make to use to make a prediction\n",
        "X = pd.read_csv(\"proposed_new_product.csv\").values\n",
        "\n",
        "# Make a prediction with the neural network\n",
        "prediction =model.predict(X)\n",
        "\n",
        "# Grab just the first element of the first prediction (since that's the only have one)\n",
        "prediction = prediction[0][0]\n",
        "\n",
        "# Re-scale the data from the 0-to-1 range back to dollars\n",
        "# These constants are from when the data was originally scaled down to the 0-to-1 range\n",
        "prediction = prediction + 0.1159\n",
        "prediction = prediction / 0.0000036968\n",
        "\n",
        "print(\"Earnings Prediction for Proposed Product - ${}\".format(prediction))"
      ],
      "execution_count": 28,
      "outputs": [
        {
          "output_type": "stream",
          "name": "stdout",
          "text": [
            "Earnings Prediction for Proposed Product - $261516.35174213667\n"
          ]
        }
      ]
    },
    {
      "cell_type": "code",
      "metadata": {
        "colab": {
          "base_uri": "https://localhost:8080/"
        },
        "id": "NdhlgSI7K6gT",
        "outputId": "3c45acf8-4f52-4c96-f1b8-df27b0b5bb61"
      },
      "source": [
        "model.save(\"trained_model.h5\")\n",
        "print(\"Model saved to disk.\")"
      ],
      "execution_count": 29,
      "outputs": [
        {
          "output_type": "stream",
          "name": "stdout",
          "text": [
            "Model saved to disk.\n"
          ]
        }
      ]
    },
    {
      "cell_type": "code",
      "metadata": {
        "id": "sSnBItLQMccp"
      },
      "source": [
        "from keras.models import load_model"
      ],
      "execution_count": 30,
      "outputs": []
    },
    {
      "cell_type": "code",
      "metadata": {
        "id": "zQgnwdetMTbV"
      },
      "source": [
        "model=load_model(\"trained_model.h5\")"
      ],
      "execution_count": 31,
      "outputs": []
    },
    {
      "cell_type": "code",
      "metadata": {
        "colab": {
          "base_uri": "https://localhost:8080/"
        },
        "id": "xdg0zeXjMkdw",
        "outputId": "f5702994-02fd-47a2-8608-dcff00d838fb"
      },
      "source": [
        "X = pd.read_csv(\"proposed_new_product.csv\").values\n",
        "prediction = model.predict(X)\n",
        "\n",
        "# Grab just the first element of the first prediction (since we only have one)\n",
        "prediction = prediction[0][0]\n",
        "\n",
        "# Re-scale the data from the 0-to-1 range back to dollars\n",
        "# These constants are from when the data was originally scaled down to the 0-to-1 range\n",
        "prediction = prediction + 0.1159\n",
        "prediction = prediction / 0.0000036968\n",
        "\n",
        "print(\"Earnings Prediction for Proposed Product - ${}\".format(prediction))"
      ],
      "execution_count": 32,
      "outputs": [
        {
          "output_type": "stream",
          "name": "stdout",
          "text": [
            "Earnings Prediction for Proposed Product - $261516.35174213667\n"
          ]
        }
      ]
    },
    {
      "cell_type": "code",
      "metadata": {
        "id": "qYOYb9xgM_IB"
      },
      "source": [
        ""
      ],
      "execution_count": null,
      "outputs": []
    }
  ]
}